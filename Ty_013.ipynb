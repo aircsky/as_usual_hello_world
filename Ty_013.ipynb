{
 "cells": [
  {
   "cell_type": "code",
   "execution_count": 1,
   "metadata": {},
   "outputs": [],
   "source": [
    "%matplotlib inline\n",
    "import numpy as np\n",
    "import matplotlib.pyplot as plt"
   ]
  },
  {
   "cell_type": "code",
   "execution_count": 2,
   "metadata": {},
   "outputs": [],
   "source": [
    "import pandas as pd"
   ]
  },
  {
   "cell_type": "code",
   "execution_count": 3,
   "metadata": {},
   "outputs": [
    {
     "name": "stdout",
     "output_type": "stream",
     "text": [
      " 磁碟區 C 中的磁碟沒有標籤。\n",
      " 磁碟區序號:  8C65-E023\n",
      "\n",
      " C:\\Users\\3F-C3\\Desktop\\Python-3-Data-Analysis-Basics-master\\2017 政大 MOOC 上課 的目錄\n",
      "\n",
      "2018/08/10  下午 10:51    <DIR>          .\n",
      "2018/08/10  下午 10:51    <DIR>          ..\n",
      "2018/08/10  下午 10:49    <DIR>          .ipynb_checkpoints\n",
      "2018/01/24  上午 08:57             3,084 0103 把 Python 當計算機用.ipynb\n",
      "2018/01/24  上午 08:57            65,953 0104 Jupyter 的魔術畫圖法.ipynb\n",
      "2018/01/24  上午 08:57             2,668 0105 勝過計算機的變數.ipynb\n",
      "2018/01/24  上午 08:57             1,531 0106 用 Markdown 做筆記.ipynb\n",
      "2018/01/24  上午 08:57             3,825 0107 變數好好用.ipynb\n",
      "2018/01/24  上午 08:57            13,334 0108 串列 List 是數據分析第一步.ipynb\n",
      "2018/01/24  上午 08:57             4,579 0109 字串 Hello World.ipynb\n",
      "2018/01/24  上午 08:57             4,480 0110 互動的開始 input.ipynb\n",
      "2018/01/24  上午 08:57             4,078 0201 條件判斷.ipynb\n",
      "2018/01/24  上午 08:57             3,337 0202 用迴圈做拍拍機器人.ipynb\n",
      "2018/01/24  上午 08:57             2,551 0203 字串完全照我們意思格式化.ipynb\n",
      "2018/01/24  上午 08:57             3,081 0204 函數的寫法初級班.ipynb\n",
      "2018/01/24  上午 08:57             2,269 0205 函數練習.ipynb\n",
      "2018/01/24  上午 08:57             4,677 0206 List 的切割技術.ipynb\n",
      "2018/01/24  上午 08:57             1,809 0207 字串很像 list.ipynb\n",
      "2018/01/24  上午 08:57             2,122 0208 List 快速生成法.ipynb\n",
      "2018/01/24  上午 08:57             2,340 0209 for 迴圈.ipynb\n",
      "2018/01/24  上午 08:57             2,699 0210 我們要找的資料在裡面嗎.ipynb\n",
      "2018/01/24  上午 08:57             2,265 0211 if條件判斷.ipynb\n",
      "2018/01/24  上午 08:57             1,859 0212 亂數好好玩.ipynb\n",
      "2018/01/24  上午 08:57             5,472 0301 Python 正規套件讀入法.ipynb\n",
      "2018/01/24  上午 08:57             2,499 0302 Python 正規套件讀入法之二.ipynb\n",
      "2018/01/24  上午 08:57            52,759 0303 Jupyter Notebbok 數據分析標準動作.ipynb\n",
      "2018/01/24  上午 08:57             1,975 0304 處理一整個 list 的數字.ipynb\n",
      "2018/01/24  上午 08:57             2,267 0305 Array 真是太炫了.ipynb\n",
      "2018/01/24  上午 08:57             2,316 0306 用 array 算成績.ipynb\n",
      "2018/01/24  上午 08:57             2,537 0307 算全班成績（Python 的 Broadcasting）.ipynb\n",
      "2018/01/24  上午 08:57            16,531 0308 Array 大變身.ipynb\n",
      "2018/01/24  上午 08:57             4,544 0309 Array 快速生成法.ipynb\n",
      "2018/01/24  上午 08:57            60,446 0310 Array 畫圖超方便.ipynb\n",
      "2018/01/24  上午 08:57            34,645 0311 Array 快篩法.ipynb\n",
      "2018/01/24  上午 08:57             2,552 0401 Python 的字典資料型態.ipynb\n",
      "2018/01/24  上午 08:57             3,657 0402 超炫的互動模式-Copy1.ipynb\n",
      "2018/01/24  上午 08:57             4,048 0403 超炫的互動模式之二.ipynb\n",
      "2018/01/24  上午 08:57             1,744 0404 互動應用範例.ipynb\n",
      "2018/01/24  上午 08:57            24,743 0405 圖形的互動.ipynb\n",
      "2018/01/24  上午 08:57             9,278 0406 圖形互動看 over fitting.ipynb\n",
      "2018/01/24  上午 08:57             1,975 0407 互動範例：BMI計算器.ipynb\n",
      "2018/01/24  上午 08:57            62,953 0501 熊貓就像 Excel.ipynb\n",
      "2018/01/24  上午 08:57            35,963 0502 用熊貓做基本數據分析.ipynb\n",
      "2018/01/24  上午 08:57            14,982 0503 組裝自己的 DataFrame.ipynb\n",
      "2018/01/24  上午 08:57            61,379 0504 用 Groupby 看美國哪裡最容易看到 UFO.ipynb\n",
      "2018/01/24  上午 08:57            14,659 0505 Pandas 的 loc 定位法.ipynb\n",
      "2018/01/24  上午 08:57            95,272 0506 玩玩真的股票資料.ipynb\n",
      "2018/01/24  上午 08:57           126,170 0507 假的資料真的回歸-Copy2.ipynb\n",
      "2018/01/24  上午 08:57            55,008 0601 假的資料真的回歸.ipynb\n",
      "2018/01/24  上午 08:57            37,385 0602 過度擬合 Overfitting.ipynb\n",
      "2018/01/24  上午 08:57            36,066 0603 訓練資料和測試資料.ipynb\n",
      "2018/01/24  上午 08:57           183,958 0604 波士頓房價預測.ipynb\n",
      "2018/01/24  上午 08:57           159,283 0701 用 SVM 做分類.ipynb\n",
      "2018/01/24  上午 08:57            72,941 0702 判斷是哪個亞種的鳶尾花.ipynb\n",
      "2018/01/24  上午 08:57            42,745 0703 KMeans 機器自動分類.ipynb\n",
      "2018/01/24  上午 08:57           343,460 11 機器學習概要.ipynb\n",
      "2018/01/24  上午 08:57            13,092 bear.png\n",
      "2018/01/24  上午 08:57             2,406 grades.csv\n",
      "2018/01/24  上午 08:57            20,544 meshgrid2.jpg\n",
      "2018/08/07  下午 07:52             1,514 Python_test2.ipynb\n",
      "2018/08/07  下午 07:01           146,346 Ty_001.ipynb\n",
      "2018/08/08  下午 04:07             3,368 Ty_003.ipynb\n",
      "2018/08/08  下午 04:17             2,430 Ty_004.ipynb\n",
      "2018/08/08  下午 04:27            12,316 Ty_005.ipynb\n",
      "2018/08/08  下午 04:39             6,616 Ty_006.ipynb\n",
      "2018/08/08  下午 04:57            69,855 Ty_007.ipynb\n",
      "2018/08/08  下午 05:53            34,078 Ty_008.ipynb\n",
      "2018/08/09  下午 12:15             2,888 Ty_009.ipynb\n",
      "2018/08/10  下午 02:35             1,928 Ty_010.ipynb\n",
      "2018/08/10  下午 05:00             9,502 Ty_011.ipynb\n",
      "2018/08/10  下午 10:24             2,139 Ty_012.ipynb\n",
      "2018/08/10  下午 10:51               764 Ty_013.ipynb\n",
      "              69 個檔案       2,038,539 位元組\n",
      "               3 個目錄  59,801,083,904 位元組可用\n"
     ]
    }
   ],
   "source": [
    "%ls"
   ]
  },
  {
   "cell_type": "code",
   "execution_count": 4,
   "metadata": {},
   "outputs": [],
   "source": [
    "df = pd.read_csv(\"grades.csv\")"
   ]
  },
  {
   "cell_type": "markdown",
   "metadata": {},
   "source": [
    "df= Data File"
   ]
  },
  {
   "cell_type": "code",
   "execution_count": 5,
   "metadata": {},
   "outputs": [
    {
     "data": {
      "text/html": [
       "<div>\n",
       "<style scoped>\n",
       "    .dataframe tbody tr th:only-of-type {\n",
       "        vertical-align: middle;\n",
       "    }\n",
       "\n",
       "    .dataframe tbody tr th {\n",
       "        vertical-align: top;\n",
       "    }\n",
       "\n",
       "    .dataframe thead th {\n",
       "        text-align: right;\n",
       "    }\n",
       "</style>\n",
       "<table border=\"1\" class=\"dataframe\">\n",
       "  <thead>\n",
       "    <tr style=\"text-align: right;\">\n",
       "      <th></th>\n",
       "      <th>姓名</th>\n",
       "      <th>國文</th>\n",
       "      <th>英文</th>\n",
       "      <th>數學</th>\n",
       "      <th>自然</th>\n",
       "      <th>社會</th>\n",
       "    </tr>\n",
       "  </thead>\n",
       "  <tbody>\n",
       "    <tr>\n",
       "      <th>0</th>\n",
       "      <td>劉俊安</td>\n",
       "      <td>9</td>\n",
       "      <td>10</td>\n",
       "      <td>15</td>\n",
       "      <td>10</td>\n",
       "      <td>13</td>\n",
       "    </tr>\n",
       "    <tr>\n",
       "      <th>1</th>\n",
       "      <td>胡玉華</td>\n",
       "      <td>10</td>\n",
       "      <td>10</td>\n",
       "      <td>10</td>\n",
       "      <td>8</td>\n",
       "      <td>9</td>\n",
       "    </tr>\n",
       "    <tr>\n",
       "      <th>2</th>\n",
       "      <td>黃淑婷</td>\n",
       "      <td>13</td>\n",
       "      <td>15</td>\n",
       "      <td>8</td>\n",
       "      <td>11</td>\n",
       "      <td>14</td>\n",
       "    </tr>\n",
       "    <tr>\n",
       "      <th>3</th>\n",
       "      <td>陳上紫</td>\n",
       "      <td>10</td>\n",
       "      <td>10</td>\n",
       "      <td>8</td>\n",
       "      <td>9</td>\n",
       "      <td>14</td>\n",
       "    </tr>\n",
       "    <tr>\n",
       "      <th>4</th>\n",
       "      <td>崔靜成</td>\n",
       "      <td>13</td>\n",
       "      <td>12</td>\n",
       "      <td>14</td>\n",
       "      <td>12</td>\n",
       "      <td>13</td>\n",
       "    </tr>\n",
       "  </tbody>\n",
       "</table>\n",
       "</div>"
      ],
      "text/plain": [
       "    姓名  國文  英文  數學  自然  社會\n",
       "0  劉俊安   9  10  15  10  13\n",
       "1  胡玉華  10  10  10   8   9\n",
       "2  黃淑婷  13  15   8  11  14\n",
       "3  陳上紫  10  10   8   9  14\n",
       "4  崔靜成  13  12  14  12  13"
      ]
     },
     "execution_count": 5,
     "metadata": {},
     "output_type": "execute_result"
    }
   ],
   "source": [
    "df.head()"
   ]
  },
  {
   "cell_type": "code",
   "execution_count": 6,
   "metadata": {},
   "outputs": [
    {
     "data": {
      "text/plain": [
       "0      9\n",
       "1     10\n",
       "2     13\n",
       "3     10\n",
       "4     13\n",
       "5     13\n",
       "6     11\n",
       "7      8\n",
       "8      9\n",
       "9     10\n",
       "10    14\n",
       "11    13\n",
       "12    11\n",
       "13    15\n",
       "14     8\n",
       "15    11\n",
       "16    14\n",
       "17    12\n",
       "18     9\n",
       "19    14\n",
       "20    13\n",
       "21     9\n",
       "22    12\n",
       "23    10\n",
       "24    10\n",
       "25    13\n",
       "26    13\n",
       "27     8\n",
       "28    15\n",
       "29    14\n",
       "      ..\n",
       "70     9\n",
       "71     9\n",
       "72    10\n",
       "73    13\n",
       "74    14\n",
       "75    13\n",
       "76     9\n",
       "77    13\n",
       "78    12\n",
       "79     9\n",
       "80    13\n",
       "81    11\n",
       "82    11\n",
       "83    10\n",
       "84    10\n",
       "85    10\n",
       "86    11\n",
       "87    10\n",
       "88    11\n",
       "89    13\n",
       "90     8\n",
       "91    14\n",
       "92     8\n",
       "93    11\n",
       "94    10\n",
       "95     9\n",
       "96     8\n",
       "97    14\n",
       "98    15\n",
       "99     9\n",
       "Name: 國文, Length: 100, dtype: int64"
      ]
     },
     "execution_count": 6,
     "metadata": {},
     "output_type": "execute_result"
    }
   ],
   "source": [
    "df[\"國文\"]"
   ]
  },
  {
   "cell_type": "code",
   "execution_count": 7,
   "metadata": {},
   "outputs": [],
   "source": [
    "chp = df.國文.values"
   ]
  },
  {
   "cell_type": "code",
   "execution_count": 8,
   "metadata": {},
   "outputs": [
    {
     "data": {
      "text/plain": [
       "array([ 9, 10, 13, 10, 13, 13, 11,  8,  9, 10, 14, 13, 11, 15,  8, 11, 14,\n",
       "       12,  9, 14, 13,  9, 12, 10, 10, 13, 13,  8, 15, 14,  8, 15,  9, 14,\n",
       "       13, 14, 12, 11,  8,  9, 12, 14, 14, 12, 13,  9, 14,  8, 15, 10, 12,\n",
       "       14, 12, 14, 15,  9, 11, 12, 10, 11, 14, 14,  8, 12,  9, 13, 10, 14,\n",
       "        8, 12,  9,  9, 10, 13, 14, 13,  9, 13, 12,  9, 13, 11, 11, 10, 10,\n",
       "       10, 11, 10, 11, 13,  8, 14,  8, 11, 10,  9,  8, 14, 15,  9],\n",
       "      dtype=int64)"
      ]
     },
     "execution_count": 8,
     "metadata": {},
     "output_type": "execute_result"
    }
   ],
   "source": [
    "chp"
   ]
  },
  {
   "cell_type": "code",
   "execution_count": 9,
   "metadata": {},
   "outputs": [
    {
     "data": {
      "text/plain": [
       "11.39"
      ]
     },
     "execution_count": 9,
     "metadata": {},
     "output_type": "execute_result"
    }
   ],
   "source": [
    "chp.mean()"
   ]
  },
  {
   "cell_type": "code",
   "execution_count": 11,
   "metadata": {},
   "outputs": [
    {
     "data": {
      "text/plain": [
       "2.1858407993264284"
      ]
     },
     "execution_count": 11,
     "metadata": {},
     "output_type": "execute_result"
    }
   ],
   "source": [
    "chp.std()"
   ]
  },
  {
   "cell_type": "code",
   "execution_count": 12,
   "metadata": {},
   "outputs": [
    {
     "data": {
      "text/plain": [
       "<matplotlib.axes._subplots.AxesSubplot at 0x8463390>"
      ]
     },
     "execution_count": 12,
     "metadata": {},
     "output_type": "execute_result"
    },
    {
     "data": {
      "image/png": "[encoded data removed]",
      "text/plain": [
       "<Figure size 432x288 with 1 Axes>"
      ]
     },
     "metadata": {},
     "output_type": "display_data"
    }
   ],
   "source": [
    "df.國文.hist( bins= 15)"
   ]
  },
  {
   "cell_type": "code",
   "execution_count": null,
   "metadata": {},
   "outputs": [],
   "source": []
  }
 ],
 "metadata": {
  "kernelspec": {
   "display_name": "Python 3",
   "language": "python",
   "name": "python3"
  },
  "language_info": {
   "codemirror_mode": {
    "name": "ipython",
    "version": 3
   },
   "file_extension": ".py",
   "mimetype": "text/x-python",
   "name": "python",
   "nbconvert_exporter": "python",
   "pygments_lexer": "ipython3",
   "version": "3.6.5"
  }
 },
 "nbformat": 4,
 "nbformat_minor": 2
}
