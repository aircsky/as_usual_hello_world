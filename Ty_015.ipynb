{
 "cells": [
  {
   "cell_type": "code",
   "execution_count": 1,
   "metadata": {},
   "outputs": [],
   "source": [
    "%matplotlib inline\n",
    "import numpy as np\n",
    "import matplotlib.pyplot as plt\n",
    "import pandas as pd\n",
    "from ipywidgets import interact_manual"
   ]
  },
  {
   "cell_type": "code",
   "execution_count": 2,
   "metadata": {},
   "outputs": [],
   "source": [
    "mydata = np.random.randn(5,4) * 3 + 10  "
   ]
  },
  {
   "cell_type": "code",
   "execution_count": 3,
   "metadata": {},
   "outputs": [
    {
     "data": {
      "text/plain": [
       "array([[ 9.41724888, 12.49247078, 11.61085652, 10.07298679],\n",
       "       [ 9.83633587,  8.16555263, 14.73262246, 11.27177707],\n",
       "       [11.38362201,  9.92973706,  8.44399225, 12.05464813],\n",
       "       [ 3.68323439,  6.52687486,  0.54498383, 11.98074378],\n",
       "       [ 7.93211556, 12.56275113,  9.809897  , 12.39679692]])"
      ]
     },
     "execution_count": 3,
     "metadata": {},
     "output_type": "execute_result"
    }
   ],
   "source": [
    "mydata"
   ]
  },
  {
   "cell_type": "code",
   "execution_count": 4,
   "metadata": {},
   "outputs": [],
   "source": [
    "df1 = pd.DataFrame(mydata , columns=[\"甲\",\"乙\",\"丙\",\"丁\"])"
   ]
  },
  {
   "cell_type": "code",
   "execution_count": 5,
   "metadata": {},
   "outputs": [
    {
     "data": {
      "text/html": [
       "<div>\n",
       "<style scoped>\n",
       "    .dataframe tbody tr th:only-of-type {\n",
       "        vertical-align: middle;\n",
       "    }\n",
       "\n",
       "    .dataframe tbody tr th {\n",
       "        vertical-align: top;\n",
       "    }\n",
       "\n",
       "    .dataframe thead th {\n",
       "        text-align: right;\n",
       "    }\n",
       "</style>\n",
       "<table border=\"1\" class=\"dataframe\">\n",
       "  <thead>\n",
       "    <tr style=\"text-align: right;\">\n",
       "      <th></th>\n",
       "      <th>甲</th>\n",
       "      <th>乙</th>\n",
       "      <th>丙</th>\n",
       "      <th>丁</th>\n",
       "    </tr>\n",
       "  </thead>\n",
       "  <tbody>\n",
       "    <tr>\n",
       "      <th>0</th>\n",
       "      <td>9.417249</td>\n",
       "      <td>12.492471</td>\n",
       "      <td>11.610857</td>\n",
       "      <td>10.072987</td>\n",
       "    </tr>\n",
       "    <tr>\n",
       "      <th>1</th>\n",
       "      <td>9.836336</td>\n",
       "      <td>8.165553</td>\n",
       "      <td>14.732622</td>\n",
       "      <td>11.271777</td>\n",
       "    </tr>\n",
       "    <tr>\n",
       "      <th>2</th>\n",
       "      <td>11.383622</td>\n",
       "      <td>9.929737</td>\n",
       "      <td>8.443992</td>\n",
       "      <td>12.054648</td>\n",
       "    </tr>\n",
       "    <tr>\n",
       "      <th>3</th>\n",
       "      <td>3.683234</td>\n",
       "      <td>6.526875</td>\n",
       "      <td>0.544984</td>\n",
       "      <td>11.980744</td>\n",
       "    </tr>\n",
       "    <tr>\n",
       "      <th>4</th>\n",
       "      <td>7.932116</td>\n",
       "      <td>12.562751</td>\n",
       "      <td>9.809897</td>\n",
       "      <td>12.396797</td>\n",
       "    </tr>\n",
       "  </tbody>\n",
       "</table>\n",
       "</div>"
      ],
      "text/plain": [
       "           甲          乙          丙          丁\n",
       "0   9.417249  12.492471  11.610857  10.072987\n",
       "1   9.836336   8.165553  14.732622  11.271777\n",
       "2  11.383622   9.929737   8.443992  12.054648\n",
       "3   3.683234   6.526875   0.544984  11.980744\n",
       "4   7.932116  12.562751   9.809897  12.396797"
      ]
     },
     "execution_count": 5,
     "metadata": {},
     "output_type": "execute_result"
    }
   ],
   "source": [
    "df1"
   ]
  },
  {
   "cell_type": "code",
   "execution_count": null,
   "metadata": {},
   "outputs": [],
   "source": []
  },
  {
   "cell_type": "code",
   "execution_count": 6,
   "metadata": {},
   "outputs": [],
   "source": [
    "df2 = pd.DataFrame(np.random.randn(5,4) * 2 + 10 , columns=[\"子\",\"丑\",\"寅\",\"卯\"])"
   ]
  },
  {
   "cell_type": "code",
   "execution_count": 7,
   "metadata": {},
   "outputs": [
    {
     "data": {
      "text/html": [
       "<div>\n",
       "<style scoped>\n",
       "    .dataframe tbody tr th:only-of-type {\n",
       "        vertical-align: middle;\n",
       "    }\n",
       "\n",
       "    .dataframe tbody tr th {\n",
       "        vertical-align: top;\n",
       "    }\n",
       "\n",
       "    .dataframe thead th {\n",
       "        text-align: right;\n",
       "    }\n",
       "</style>\n",
       "<table border=\"1\" class=\"dataframe\">\n",
       "  <thead>\n",
       "    <tr style=\"text-align: right;\">\n",
       "      <th></th>\n",
       "      <th>子</th>\n",
       "      <th>丑</th>\n",
       "      <th>寅</th>\n",
       "      <th>卯</th>\n",
       "    </tr>\n",
       "  </thead>\n",
       "  <tbody>\n",
       "    <tr>\n",
       "      <th>0</th>\n",
       "      <td>12.464206</td>\n",
       "      <td>8.220576</td>\n",
       "      <td>8.814612</td>\n",
       "      <td>4.956166</td>\n",
       "    </tr>\n",
       "    <tr>\n",
       "      <th>1</th>\n",
       "      <td>12.457497</td>\n",
       "      <td>11.037312</td>\n",
       "      <td>4.953441</td>\n",
       "      <td>8.352723</td>\n",
       "    </tr>\n",
       "    <tr>\n",
       "      <th>2</th>\n",
       "      <td>8.289633</td>\n",
       "      <td>9.323769</td>\n",
       "      <td>9.997467</td>\n",
       "      <td>12.947450</td>\n",
       "    </tr>\n",
       "    <tr>\n",
       "      <th>3</th>\n",
       "      <td>10.622801</td>\n",
       "      <td>10.937164</td>\n",
       "      <td>7.259875</td>\n",
       "      <td>10.938554</td>\n",
       "    </tr>\n",
       "    <tr>\n",
       "      <th>4</th>\n",
       "      <td>14.000558</td>\n",
       "      <td>10.766610</td>\n",
       "      <td>11.879090</td>\n",
       "      <td>10.279537</td>\n",
       "    </tr>\n",
       "  </tbody>\n",
       "</table>\n",
       "</div>"
      ],
      "text/plain": [
       "           子          丑          寅          卯\n",
       "0  12.464206   8.220576   8.814612   4.956166\n",
       "1  12.457497  11.037312   4.953441   8.352723\n",
       "2   8.289633   9.323769   9.997467  12.947450\n",
       "3  10.622801  10.937164   7.259875  10.938554\n",
       "4  14.000558  10.766610  11.879090  10.279537"
      ]
     },
     "execution_count": 7,
     "metadata": {},
     "output_type": "execute_result"
    }
   ],
   "source": [
    "df2"
   ]
  },
  {
   "cell_type": "code",
   "execution_count": 8,
   "metadata": {},
   "outputs": [],
   "source": [
    "df3 = pd.concat([df1,df2] , axis= 1)"
   ]
  },
  {
   "cell_type": "code",
   "execution_count": 9,
   "metadata": {},
   "outputs": [
    {
     "data": {
      "text/html": [
       "<div>\n",
       "<style scoped>\n",
       "    .dataframe tbody tr th:only-of-type {\n",
       "        vertical-align: middle;\n",
       "    }\n",
       "\n",
       "    .dataframe tbody tr th {\n",
       "        vertical-align: top;\n",
       "    }\n",
       "\n",
       "    .dataframe thead th {\n",
       "        text-align: right;\n",
       "    }\n",
       "</style>\n",
       "<table border=\"1\" class=\"dataframe\">\n",
       "  <thead>\n",
       "    <tr style=\"text-align: right;\">\n",
       "      <th></th>\n",
       "      <th>甲</th>\n",
       "      <th>乙</th>\n",
       "      <th>丙</th>\n",
       "      <th>丁</th>\n",
       "      <th>子</th>\n",
       "      <th>丑</th>\n",
       "      <th>寅</th>\n",
       "      <th>卯</th>\n",
       "    </tr>\n",
       "  </thead>\n",
       "  <tbody>\n",
       "    <tr>\n",
       "      <th>0</th>\n",
       "      <td>9.417249</td>\n",
       "      <td>12.492471</td>\n",
       "      <td>11.610857</td>\n",
       "      <td>10.072987</td>\n",
       "      <td>12.464206</td>\n",
       "      <td>8.220576</td>\n",
       "      <td>8.814612</td>\n",
       "      <td>4.956166</td>\n",
       "    </tr>\n",
       "    <tr>\n",
       "      <th>1</th>\n",
       "      <td>9.836336</td>\n",
       "      <td>8.165553</td>\n",
       "      <td>14.732622</td>\n",
       "      <td>11.271777</td>\n",
       "      <td>12.457497</td>\n",
       "      <td>11.037312</td>\n",
       "      <td>4.953441</td>\n",
       "      <td>8.352723</td>\n",
       "    </tr>\n",
       "    <tr>\n",
       "      <th>2</th>\n",
       "      <td>11.383622</td>\n",
       "      <td>9.929737</td>\n",
       "      <td>8.443992</td>\n",
       "      <td>12.054648</td>\n",
       "      <td>8.289633</td>\n",
       "      <td>9.323769</td>\n",
       "      <td>9.997467</td>\n",
       "      <td>12.947450</td>\n",
       "    </tr>\n",
       "    <tr>\n",
       "      <th>3</th>\n",
       "      <td>3.683234</td>\n",
       "      <td>6.526875</td>\n",
       "      <td>0.544984</td>\n",
       "      <td>11.980744</td>\n",
       "      <td>10.622801</td>\n",
       "      <td>10.937164</td>\n",
       "      <td>7.259875</td>\n",
       "      <td>10.938554</td>\n",
       "    </tr>\n",
       "    <tr>\n",
       "      <th>4</th>\n",
       "      <td>7.932116</td>\n",
       "      <td>12.562751</td>\n",
       "      <td>9.809897</td>\n",
       "      <td>12.396797</td>\n",
       "      <td>14.000558</td>\n",
       "      <td>10.766610</td>\n",
       "      <td>11.879090</td>\n",
       "      <td>10.279537</td>\n",
       "    </tr>\n",
       "  </tbody>\n",
       "</table>\n",
       "</div>"
      ],
      "text/plain": [
       "           甲          乙          丙          丁          子          丑  \\\n",
       "0   9.417249  12.492471  11.610857  10.072987  12.464206   8.220576   \n",
       "1   9.836336   8.165553  14.732622  11.271777  12.457497  11.037312   \n",
       "2  11.383622   9.929737   8.443992  12.054648   8.289633   9.323769   \n",
       "3   3.683234   6.526875   0.544984  11.980744  10.622801  10.937164   \n",
       "4   7.932116  12.562751   9.809897  12.396797  14.000558  10.766610   \n",
       "\n",
       "           寅          卯  \n",
       "0   8.814612   4.956166  \n",
       "1   4.953441   8.352723  \n",
       "2   9.997467  12.947450  \n",
       "3   7.259875  10.938554  \n",
       "4  11.879090  10.279537  "
      ]
     },
     "execution_count": 9,
     "metadata": {},
     "output_type": "execute_result"
    }
   ],
   "source": [
    "df3"
   ]
  },
  {
   "cell_type": "code",
   "execution_count": 11,
   "metadata": {},
   "outputs": [],
   "source": [
    "df3.index = range(1,6)"
   ]
  },
  {
   "cell_type": "code",
   "execution_count": 12,
   "metadata": {},
   "outputs": [
    {
     "data": {
      "text/html": [
       "<div>\n",
       "<style scoped>\n",
       "    .dataframe tbody tr th:only-of-type {\n",
       "        vertical-align: middle;\n",
       "    }\n",
       "\n",
       "    .dataframe tbody tr th {\n",
       "        vertical-align: top;\n",
       "    }\n",
       "\n",
       "    .dataframe thead th {\n",
       "        text-align: right;\n",
       "    }\n",
       "</style>\n",
       "<table border=\"1\" class=\"dataframe\">\n",
       "  <thead>\n",
       "    <tr style=\"text-align: right;\">\n",
       "      <th></th>\n",
       "      <th>甲</th>\n",
       "      <th>乙</th>\n",
       "      <th>丙</th>\n",
       "      <th>丁</th>\n",
       "      <th>子</th>\n",
       "      <th>丑</th>\n",
       "      <th>寅</th>\n",
       "      <th>卯</th>\n",
       "    </tr>\n",
       "  </thead>\n",
       "  <tbody>\n",
       "    <tr>\n",
       "      <th>1</th>\n",
       "      <td>9.417249</td>\n",
       "      <td>12.492471</td>\n",
       "      <td>11.610857</td>\n",
       "      <td>10.072987</td>\n",
       "      <td>12.464206</td>\n",
       "      <td>8.220576</td>\n",
       "      <td>8.814612</td>\n",
       "      <td>4.956166</td>\n",
       "    </tr>\n",
       "    <tr>\n",
       "      <th>2</th>\n",
       "      <td>9.836336</td>\n",
       "      <td>8.165553</td>\n",
       "      <td>14.732622</td>\n",
       "      <td>11.271777</td>\n",
       "      <td>12.457497</td>\n",
       "      <td>11.037312</td>\n",
       "      <td>4.953441</td>\n",
       "      <td>8.352723</td>\n",
       "    </tr>\n",
       "    <tr>\n",
       "      <th>3</th>\n",
       "      <td>11.383622</td>\n",
       "      <td>9.929737</td>\n",
       "      <td>8.443992</td>\n",
       "      <td>12.054648</td>\n",
       "      <td>8.289633</td>\n",
       "      <td>9.323769</td>\n",
       "      <td>9.997467</td>\n",
       "      <td>12.947450</td>\n",
       "    </tr>\n",
       "    <tr>\n",
       "      <th>4</th>\n",
       "      <td>3.683234</td>\n",
       "      <td>6.526875</td>\n",
       "      <td>0.544984</td>\n",
       "      <td>11.980744</td>\n",
       "      <td>10.622801</td>\n",
       "      <td>10.937164</td>\n",
       "      <td>7.259875</td>\n",
       "      <td>10.938554</td>\n",
       "    </tr>\n",
       "    <tr>\n",
       "      <th>5</th>\n",
       "      <td>7.932116</td>\n",
       "      <td>12.562751</td>\n",
       "      <td>9.809897</td>\n",
       "      <td>12.396797</td>\n",
       "      <td>14.000558</td>\n",
       "      <td>10.766610</td>\n",
       "      <td>11.879090</td>\n",
       "      <td>10.279537</td>\n",
       "    </tr>\n",
       "  </tbody>\n",
       "</table>\n",
       "</div>"
      ],
      "text/plain": [
       "           甲          乙          丙          丁          子          丑  \\\n",
       "1   9.417249  12.492471  11.610857  10.072987  12.464206   8.220576   \n",
       "2   9.836336   8.165553  14.732622  11.271777  12.457497  11.037312   \n",
       "3  11.383622   9.929737   8.443992  12.054648   8.289633   9.323769   \n",
       "4   3.683234   6.526875   0.544984  11.980744  10.622801  10.937164   \n",
       "5   7.932116  12.562751   9.809897  12.396797  14.000558  10.766610   \n",
       "\n",
       "           寅          卯  \n",
       "1   8.814612   4.956166  \n",
       "2   4.953441   8.352723  \n",
       "3   9.997467  12.947450  \n",
       "4   7.259875  10.938554  \n",
       "5  11.879090  10.279537  "
      ]
     },
     "execution_count": 12,
     "metadata": {},
     "output_type": "execute_result"
    }
   ],
   "source": [
    "df3"
   ]
  },
  {
   "cell_type": "code",
   "execution_count": null,
   "metadata": {},
   "outputs": [],
   "source": []
  }
 ],
 "metadata": {
  "kernelspec": {
   "display_name": "Python 3",
   "language": "python",
   "name": "python3"
  },
  "language_info": {
   "codemirror_mode": {
    "name": "ipython",
    "version": 3
   },
   "file_extension": ".py",
   "mimetype": "text/x-python",
   "name": "python",
   "nbconvert_exporter": "python",
   "pygments_lexer": "ipython3",
   "version": "3.6.5"
  }
 },
 "nbformat": 4,
 "nbformat_minor": 2
}
